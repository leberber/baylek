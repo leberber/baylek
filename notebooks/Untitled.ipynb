{
 "cells": [
  {
   "cell_type": "code",
   "execution_count": 197,
   "id": "50ef65cc-7627-4e1a-8b14-340ecc829de8",
   "metadata": {},
   "outputs": [],
   "source": [
    "import psycopg\n",
    "\n",
    "import  envs\n"
   ]
  },
  {
   "cell_type": "code",
   "execution_count": 206,
   "id": "976532fb-3eca-4112-b810-f1ec859b8e39",
   "metadata": {},
   "outputs": [],
   "source": [
    "con_string = \"host=15.188.94.127 port=5432 dbname=dev password=baylek@2024 user=postgres\"\n",
    "class PostgesAPI:\n",
    "    def __init__(self, con_string) -> None:\n",
    "        self.con_string = con_string\n",
    "\n",
    "    def insert(self, table_name, records):\n",
    "        try:\n",
    "            with psycopg.connect(self.con_string) as conn:\n",
    "                with conn.cursor() as cur:\n",
    "                    if isinstance(records, dict): records = [records] \n",
    "                    cols = ', '.join(list(records[0].keys()))\n",
    "                    vals = ', '.join([f\"{tuple(record.values())}\" for record in records])\n",
    "                    insert_statements = f\"\"\"INSERT INTO {table_name} ({cols}) VALUES {vals}\"\"\"\n",
    "                    cur.execute(insert_statements)\n",
    "                    conn.commit()\n",
    "            return f'{lenrecords} records were inserted'\n",
    "        except Exception as e:\n",
    "            print(e)\n",
    "        \n",
    "\n",
    "    def update(self, sql_statements):\n",
    "        try:\n",
    "            with psycopg.connect(self.con_string) as conn:\n",
    "                with conn.cursor() as cur:\n",
    "                    cur.execute(sql_statements)\n",
    "                    conn.commit()\n",
    "            return 'SQL Executed successfully'\n",
    "        except Exception as e:\n",
    "            print(e)\n",
    "        \n",
    "\n",
    "\n",
    "    def select(self, sql_statements):\n",
    "        try:\n",
    "            with psycopg.connect(self.con_string, row_factory = psycopg.rows.dict_row) as conn:\n",
    "                with conn.cursor() as cur:\n",
    "                    cur.execute(sql_statements)\n",
    "                    # columns = tuple([desc[0] for desc in cur.description])\n",
    "                    data = cur.fetchall()\n",
    "            return  data\n",
    "        except Exception as e:\n",
    "            print(e)\n",
    "\n",
    "    def create(self, sql_file):\n",
    "        try:\n",
    "            with psycopg.connect(self.con_string) as conn:\n",
    "                with conn.cursor() as cur:\n",
    "                    with open(sql_file, 'r') as sql_file:\n",
    "                        sql_stms = sql_file.read().split(';')\n",
    "                        print(sql_stms)\n",
    "                        for stm in sql_stms:\n",
    "                            print(stm)\n",
    "                            cur.execute(stm)\n",
    "                            conn.commit()\n",
    "            return 'SQL Executed successfully'\n",
    "        except Exception as e:\n",
    "            print(e)\n",
    "        \n",
    "        \n",
    "sql_api = PostgesAPI( con_string)  "
   ]
  },
  {
   "cell_type": "code",
   "execution_count": 207,
   "id": "5b3ffd20-d4f6-4c2d-8e88-eeb5149dd1b2",
   "metadata": {},
   "outputs": [
    {
     "name": "stdout",
     "output_type": "stream",
     "text": [
      "['\\nDROP TABLE IF EXISTS test', '\\nCREATE TABLE test (\\n    id serial PRIMARY KEY,\\n    num integer,\\n    data text\\n)', \"\\nINSERT INTO test (num, data) \\nVALUES (6000, 'HHH'), (800, 'BBB')\", '\\n']\n",
      "\n",
      "DROP TABLE IF EXISTS test\n",
      "\n",
      "CREATE TABLE test (\n",
      "    id serial PRIMARY KEY,\n",
      "    num integer,\n",
      "    data text\n",
      ")\n",
      "\n",
      "INSERT INTO test (num, data) \n",
      "VALUES (6000, 'HHH'), (800, 'BBB')\n",
      "\n",
      "\n"
     ]
    },
    {
     "data": {
      "text/plain": [
       "'SQL Executed successfully'"
      ]
     },
     "execution_count": 207,
     "metadata": {},
     "output_type": "execute_result"
    }
   ],
   "source": [
    "sql_api.create('test.sql')"
   ]
  },
  {
   "cell_type": "code",
   "execution_count": 208,
   "id": "e8742057-193b-43d3-8a6f-90081cbb8365",
   "metadata": {},
   "outputs": [
    {
     "data": {
      "text/plain": [
       "[{'id': 1, 'num': 6000, 'data': 'HHH'}, {'id': 2, 'num': 800, 'data': 'BBB'}]"
      ]
     },
     "execution_count": 208,
     "metadata": {},
     "output_type": "execute_result"
    }
   ],
   "source": [
    "sql_api.select('select * from test')"
   ]
  },
  {
   "cell_type": "code",
   "execution_count": 193,
   "id": "a48ea1f8-1aec-4638-bf47-539c31ae85be",
   "metadata": {},
   "outputs": [
    {
     "data": {
      "text/plain": [
       "[{'id': 1, 'num': 100, 'data': \"abc'def\"},\n",
       " {'id': 3, 'num': 200, 'data': 'xzy'},\n",
       " {'id': 4, 'num': 300, 'data': 'updated data'},\n",
       " {'id': 5, 'num': 300, 'data': 'updated data'},\n",
       " {'id': 6, 'num': 300, 'data': 'updated data'},\n",
       " {'id': 7, 'num': 300, 'data': 'updated data'},\n",
       " {'id': 8, 'num': 6000, 'data': 'HHH'},\n",
       " {'id': 9, 'num': 800, 'data': 'BBB'},\n",
       " {'id': 10, 'num': 6000, 'data': 'HHH'},\n",
       " {'id': 11, 'num': 9999, 'data': 'KKJL'}]"
      ]
     },
     "execution_count": 193,
     "metadata": {},
     "output_type": "execute_result"
    }
   ],
   "source": [
    "sql_api.select(\"select * from test\")"
   ]
  },
  {
   "cell_type": "code",
   "execution_count": null,
   "id": "f449322e-8274-42ea-8439-841cf9367e31",
   "metadata": {},
   "outputs": [],
   "source": [
    "records = [\n",
    "    {\n",
    "        \"num\":9999,\n",
    "        \"data\" : 'KKJL'\n",
    "    },\n",
    "    {\n",
    "       \"num\":800,\n",
    "        \"data\" : 'BBB'\n",
    "    }\n",
    "]\n",
    "\n",
    "table_name =  \"test\"\n"
   ]
  },
  {
   "cell_type": "code",
   "execution_count": 167,
   "id": "31ddc5a4-30db-4c4d-a722-bc354a250b0e",
   "metadata": {},
   "outputs": [
    {
     "data": {
      "text/plain": [
       "'SQL Executed successfully'"
      ]
     },
     "execution_count": 167,
     "metadata": {},
     "output_type": "execute_result"
    }
   ],
   "source": [
    "sql_api.insert(table_name, records[0])"
   ]
  },
  {
   "cell_type": "code",
   "execution_count": 195,
   "id": "b95b9441-50d9-4d48-b1b1-4808057044a4",
   "metadata": {},
   "outputs": [
    {
     "name": "stdout",
     "output_type": "stream",
     "text": [
      "\n",
      "\n",
      "DROP TABLE IF EXISTS tableA\n",
      "\n",
      "SELECT * FROM test \n",
      "\n"
     ]
    }
   ],
   "source": [
    "with open('test.sql', 'r') as sql_file:\n",
    "    sql_stms = sql_file.read().split(';')\n",
    "    for stm in sql_stms:\n",
    "        print(stm)\n",
    "    "
   ]
  },
  {
   "cell_type": "code",
   "execution_count": null,
   "id": "77fc0a68-c659-43d9-b170-f8f3f631c8fd",
   "metadata": {},
   "outputs": [],
   "source": []
  },
  {
   "cell_type": "code",
   "execution_count": 19,
   "id": "e64566b5-7d19-438f-975e-947edb7204fd",
   "metadata": {},
   "outputs": [
    {
     "data": {
      "text/html": [
       "<div>\n",
       "<style scoped>\n",
       "    .dataframe tbody tr th:only-of-type {\n",
       "        vertical-align: middle;\n",
       "    }\n",
       "\n",
       "    .dataframe tbody tr th {\n",
       "        vertical-align: top;\n",
       "    }\n",
       "\n",
       "    .dataframe thead th {\n",
       "        text-align: right;\n",
       "    }\n",
       "</style>\n",
       "<table border=\"1\" class=\"dataframe\">\n",
       "  <thead>\n",
       "    <tr style=\"text-align: right;\">\n",
       "      <th></th>\n",
       "      <th>nom</th>\n",
       "      <th>genre</th>\n",
       "      <th>specialite</th>\n",
       "      <th>address_dsp</th>\n",
       "      <th>daira</th>\n",
       "      <th>telephone</th>\n",
       "      <th>lat</th>\n",
       "      <th>lng</th>\n",
       "    </tr>\n",
       "  </thead>\n",
       "  <tbody>\n",
       "    <tr>\n",
       "      <th>0</th>\n",
       "      <td>DJELLAL ABDENACER</td>\n",
       "      <td>Homme</td>\n",
       "      <td>Cardiologie</td>\n",
       "      <td>Lotissement Thala ex Stade 1er Novembre</td>\n",
       "      <td>Tizi Ouzou</td>\n",
       "      <td>026215386</td>\n",
       "      <td>36.770019</td>\n",
       "      <td>3.050049</td>\n",
       "    </tr>\n",
       "    <tr>\n",
       "      <th>1</th>\n",
       "      <td>SAHEB Belkacem</td>\n",
       "      <td>Homme</td>\n",
       "      <td>Cardiologie</td>\n",
       "      <td>lot THALA, Bd KRIM Belkacem, local 6, NV</td>\n",
       "      <td>Tizi Ouzou</td>\n",
       "      <td>026205113</td>\n",
       "      <td>36.703037</td>\n",
       "      <td>4.054835</td>\n",
       "    </tr>\n",
       "    <tr>\n",
       "      <th>2</th>\n",
       "      <td>AIT BELKACEM Djallil</td>\n",
       "      <td>Homme</td>\n",
       "      <td>Cardiologie</td>\n",
       "      <td>cité b,NV, 1er étage, local 01</td>\n",
       "      <td>Tizi Ouzou</td>\n",
       "      <td>0666265781</td>\n",
       "      <td>36.702298</td>\n",
       "      <td>4.045919</td>\n",
       "    </tr>\n",
       "    <tr>\n",
       "      <th>3</th>\n",
       "      <td>REDDAD IDIR</td>\n",
       "      <td>Homme</td>\n",
       "      <td>Cardiologie</td>\n",
       "      <td>Cité 600 logts Bt N, N° 559, NV</td>\n",
       "      <td>Tizi Ouzou</td>\n",
       "      <td>026217470</td>\n",
       "      <td>36.770000</td>\n",
       "      <td>3.049360</td>\n",
       "    </tr>\n",
       "    <tr>\n",
       "      <th>4</th>\n",
       "      <td>MELLAH  SAMIA</td>\n",
       "      <td>Femme</td>\n",
       "      <td>Dermatologie</td>\n",
       "      <td>Cité les genets Bt F N° 01</td>\n",
       "      <td>Tizi Ouzou</td>\n",
       "      <td>0666494120</td>\n",
       "      <td>36.705320</td>\n",
       "      <td>4.060288</td>\n",
       "    </tr>\n",
       "  </tbody>\n",
       "</table>\n",
       "</div>"
      ],
      "text/plain": [
       "                    nom  genre    specialite  \\\n",
       "0     DJELLAL ABDENACER  Homme   Cardiologie   \n",
       "1        SAHEB Belkacem  Homme   Cardiologie   \n",
       "2  AIT BELKACEM Djallil  Homme   Cardiologie   \n",
       "3           REDDAD IDIR  Homme   Cardiologie   \n",
       "4         MELLAH  SAMIA  Femme  Dermatologie   \n",
       "\n",
       "                                address_dsp       daira   telephone  \\\n",
       "0   Lotissement Thala ex Stade 1er Novembre  Tizi Ouzou   026215386   \n",
       "1  lot THALA, Bd KRIM Belkacem, local 6, NV  Tizi Ouzou   026205113   \n",
       "2            cité b,NV, 1er étage, local 01  Tizi Ouzou  0666265781   \n",
       "3           Cité 600 logts Bt N, N° 559, NV  Tizi Ouzou   026217470   \n",
       "4                Cité les genets Bt F N° 01  Tizi Ouzou  0666494120   \n",
       "\n",
       "         lat       lng  \n",
       "0  36.770019  3.050049  \n",
       "1  36.703037  4.054835  \n",
       "2  36.702298  4.045919  \n",
       "3  36.770000  3.049360  \n",
       "4  36.705320  4.060288  "
      ]
     },
     "execution_count": 19,
     "metadata": {},
     "output_type": "execute_result"
    }
   ],
   "source": [
    "import pandas as pd\n",
    "df = pd.read_csv('medecin_sample.csv', index_col=False)\n",
    "df.head()"
   ]
  },
  {
   "cell_type": "code",
   "execution_count": 196,
   "id": "6ee7f8d0-e7c8-4361-a2da-455b5b100c8c",
   "metadata": {},
   "outputs": [
    {
     "data": {
      "text/plain": [
       "\"INSERT INTO (num, data) VALUES (6000, 'HHH'), (800, 'BBB')\""
      ]
     },
     "execution_count": 196,
     "metadata": {},
     "output_type": "execute_result"
    }
   ],
   "source": [
    "records = [\n",
    "    {\n",
    "        \"num\":6000,\n",
    "        \"data\" : 'HHH'\n",
    "    },\n",
    "    {\n",
    "       \"num\":800,\n",
    "        \"data\" : 'BBB'\n",
    "    }\n",
    "    \n",
    "]\n",
    "\n",
    "\n",
    "cols = ', '.join(list(record.keys()))\n",
    "\n",
    "vals = ', '.join([f\"{tuple(record.values())}\" for record in records])\n",
    "\n",
    "stmt = f\"\"\"INSERT INTO ({cols}) VALUES {vals}\"\"\"\n",
    "stmt"
   ]
  },
  {
   "cell_type": "code",
   "execution_count": null,
   "id": "e0db67ac-ea62-4cc2-abf9-91c2e6ef3cc0",
   "metadata": {},
   "outputs": [],
   "source": []
  }
 ],
 "metadata": {
  "kernelspec": {
   "display_name": "Python 3 (ipykernel)",
   "language": "python",
   "name": "python3"
  },
  "language_info": {
   "codemirror_mode": {
    "name": "ipython",
    "version": 3
   },
   "file_extension": ".py",
   "mimetype": "text/x-python",
   "name": "python",
   "nbconvert_exporter": "python",
   "pygments_lexer": "ipython3",
   "version": "3.8.10"
  }
 },
 "nbformat": 4,
 "nbformat_minor": 5
}
