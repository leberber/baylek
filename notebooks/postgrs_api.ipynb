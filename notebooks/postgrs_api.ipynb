{
 "cells": [
  {
   "cell_type": "code",
   "execution_count": 1,
   "id": "50ef65cc-7627-4e1a-8b14-340ecc829de8",
   "metadata": {},
   "outputs": [],
   "source": [
    "import psycopg\n",
    "import pandas as pd\n",
    "from envs import  con_string\n",
    "pd.set_option('display.max_colwidth', None)\n"
   ]
  },
  {
   "cell_type": "code",
   "execution_count": 2,
   "id": "976532fb-3eca-4112-b810-f1ec859b8e39",
   "metadata": {},
   "outputs": [],
   "source": [
    "\n",
    "class PostgesAPI:\n",
    "    def __init__(self, con_string) -> None:\n",
    "        self.con_string = con_string\n",
    "\n",
    "    \n",
    "    def print_msg(self, msg):\n",
    "        _mes_len = 50\n",
    "        _char = \"-\"\n",
    "        _half = ((_mes_len - len(msg) -2 ) // 2) * _char\n",
    "        print(_mes_len * _char)\n",
    "        print(f\"{_half} {msg} {_half}\")\n",
    "        print(\"\")\n",
    "        \n",
    "    def insert(self, table_name, records):\n",
    "        self.print_msg('insert')\n",
    "        try:\n",
    "            with psycopg.connect(self.con_string) as conn:\n",
    "                with conn.cursor() as cur:\n",
    "                    if isinstance(records, dict): records = [records] \n",
    "                    cols = ', '.join(list(records[0].keys()))\n",
    "                    vals = ', '.join([f\"{tuple(record.values())}\" for record in records])\n",
    "                    insert_statements = f\"\"\"INSERT INTO {table_name} ({cols}) VALUES {vals}\"\"\"\n",
    "                    cur.execute(insert_statements)\n",
    "                    conn.commit()\n",
    "            return f'{len(records)} records were inserted'\n",
    "        except Exception as e:\n",
    "            print(e)\n",
    "        \n",
    "\n",
    "    def update(self, sql_statements):\n",
    "        self.print_msg('update')\n",
    "        try:\n",
    "            with psycopg.connect(self.con_string) as conn:\n",
    "                with conn.cursor() as cur:\n",
    "                    cur.execute(sql_statements)\n",
    "                    conn.commit()\n",
    "            return 'SQL Executed successfully'\n",
    "        except Exception as e:\n",
    "            print(e)\n",
    "        \n",
    "\n",
    "\n",
    "    def select(self, sql_statements):\n",
    "        self.print_msg('select')\n",
    "        try:\n",
    "            with psycopg.connect(self.con_string, row_factory = psycopg.rows.dict_row) as conn:\n",
    "                with conn.cursor() as cur:\n",
    "                    cur.execute(sql_statements)\n",
    "                    # columns = tuple([desc[0] for desc in cur.description])\n",
    "                    data = cur.fetchall()\n",
    "            return  data\n",
    "        except Exception as e:\n",
    "            print(e)\n",
    "\n",
    "    def create(self, sql_file):\n",
    "        self.print_msg('create')\n",
    "        try:\n",
    "            with psycopg.connect(self.con_string) as conn:\n",
    "                with conn.cursor() as cur:\n",
    "                    with open(sql_file, 'r') as sql_file:\n",
    "                        sql_stms = sql_file.read().split(';')\n",
    "                        for stm in sql_stms:\n",
    "                            print(stm)\n",
    "                            cur.execute(stm)\n",
    "                            conn.commit()\n",
    "            return 'SQL Executed successfully'\n",
    "        except Exception as e:\n",
    "            print(e)\n",
    "\n",
    "\n",
    "            \n",
    "    # def delete(self, table_name, records):\n",
    "    #     pass\n",
    "    # def update(self, table_name, records):\n",
    "    #     pass\n",
    "    \n",
    "        \n",
    "        \n",
    "sql_api = PostgesAPI(con_string)  "
   ]
  },
  {
   "cell_type": "markdown",
   "id": "9c8122cf-d163-465d-b7f5-b74213027da0",
   "metadata": {},
   "source": [
    "## **CRUD Operations**"
   ]
  },
  {
   "cell_type": "markdown",
   "id": "826563f8-7b70-44d8-9950-16034bb8b3e1",
   "metadata": {},
   "source": [
    "#### **Create** the database from a SQL file"
   ]
  },
  {
   "cell_type": "code",
   "execution_count": 58,
   "id": "5b3ffd20-d4f6-4c2d-8e88-eeb5149dd1b2",
   "metadata": {},
   "outputs": [
    {
     "name": "stdout",
     "output_type": "stream",
     "text": [
      "--------------------------------------------------\n",
      "--------------------- create ---------------------\n",
      "\n",
      "\n",
      "DROP TABLE IF EXISTS test\n",
      "\n",
      "CREATE TABLE test (\n",
      "    id serial PRIMARY KEY,\n",
      "    num integer,\n",
      "    data text\n",
      ")\n",
      "\n",
      "INSERT INTO test (num, data) \n",
      "VALUES (6000, 'HHH'), (800, 'BBB')\n",
      "\n",
      "\n"
     ]
    },
    {
     "data": {
      "text/plain": [
       "'SQL Executed successfully'"
      ]
     },
     "execution_count": 58,
     "metadata": {},
     "output_type": "execute_result"
    }
   ],
   "source": [
    "sql_api.create('test.sql')"
   ]
  },
  {
   "cell_type": "markdown",
   "id": "a0161773-ff2c-4f01-8130-17825b54dc23",
   "metadata": {},
   "source": [
    "#### **Select** "
   ]
  },
  {
   "cell_type": "code",
   "execution_count": 28,
   "id": "e8742057-193b-43d3-8a6f-90081cbb8365",
   "metadata": {},
   "outputs": [
    {
     "name": "stdout",
     "output_type": "stream",
     "text": [
      "--------------------------------------------------\n",
      "--------------------- select ---------------------\n",
      "\n"
     ]
    },
    {
     "data": {
      "text/plain": [
       "[{'id': 1, 'num': 6000, 'data': 'HHH'}, {'id': 2, 'num': 800, 'data': 'BBB'}]"
      ]
     },
     "execution_count": 28,
     "metadata": {},
     "output_type": "execute_result"
    }
   ],
   "source": [
    "sql_api.select('select * from test')"
   ]
  },
  {
   "cell_type": "markdown",
   "id": "cd2558f0-1ea2-402b-9348-f331b313b359",
   "metadata": {},
   "source": [
    "#### **Insert One Or Many** \n",
    "The insert method takes arguments\\\n",
    "**TABLE NAME:** target table name\\\n",
    "**RECORDS:** a record dict or a list of records  "
   ]
  },
  {
   "cell_type": "code",
   "execution_count": 15,
   "id": "f449322e-8274-42ea-8439-841cf9367e31",
   "metadata": {},
   "outputs": [],
   "source": [
    "records = [\n",
    "    {\n",
    "        \"num\":9999,\n",
    "        \"data\" : 'AAA'\n",
    "    },\n",
    "    {\n",
    "       \"num\":800,\n",
    "        \"data\" : 'BBB'\n",
    "    }\n",
    "]\n",
    "\n",
    "table_name =  \"test\"\n"
   ]
  },
  {
   "cell_type": "code",
   "execution_count": 19,
   "id": "3c26157f-919e-4c7b-bdd4-d54ce19990f9",
   "metadata": {},
   "outputs": [
    {
     "name": "stdout",
     "output_type": "stream",
     "text": [
      "--------------------------------------------------\n",
      "--------------------- insert ---------------------\n",
      "\n"
     ]
    },
    {
     "data": {
      "text/plain": [
       "'1 records were inserted'"
      ]
     },
     "execution_count": 19,
     "metadata": {},
     "output_type": "execute_result"
    }
   ],
   "source": [
    "sql_api.insert(table_name, records[0])"
   ]
  },
  {
   "cell_type": "markdown",
   "id": "e183e7c5-1b6e-4418-b62e-ea7a194aaef1",
   "metadata": {},
   "source": [
    "#### **Insert records from a csv into a table** \n",
    "To keep the API simple we manually create the DDL\\\n",
    "as an example lets create the ddl for the below CSV"
   ]
  },
  {
   "cell_type": "code",
   "execution_count": 8,
   "id": "ecf4626f-6622-4b31-a848-86009b990e5f",
   "metadata": {},
   "outputs": [
    {
     "data": {
      "text/html": [
       "<div>\n",
       "<style scoped>\n",
       "    .dataframe tbody tr th:only-of-type {\n",
       "        vertical-align: middle;\n",
       "    }\n",
       "\n",
       "    .dataframe tbody tr th {\n",
       "        vertical-align: top;\n",
       "    }\n",
       "\n",
       "    .dataframe thead th {\n",
       "        text-align: right;\n",
       "    }\n",
       "</style>\n",
       "<table border=\"1\" class=\"dataframe\">\n",
       "  <thead>\n",
       "    <tr style=\"text-align: right;\">\n",
       "      <th></th>\n",
       "      <th>nom</th>\n",
       "      <th>genre</th>\n",
       "      <th>specialite</th>\n",
       "      <th>address_dsp</th>\n",
       "      <th>daira</th>\n",
       "      <th>telephone</th>\n",
       "      <th>lat</th>\n",
       "      <th>lng</th>\n",
       "    </tr>\n",
       "  </thead>\n",
       "  <tbody>\n",
       "    <tr>\n",
       "      <th>0</th>\n",
       "      <td>DJELLAL ABDENACER</td>\n",
       "      <td>Homme</td>\n",
       "      <td>Cardiologie</td>\n",
       "      <td>Lotissement Thala ex Stade 1er Novembre</td>\n",
       "      <td>Tizi Ouzou</td>\n",
       "      <td>026215386</td>\n",
       "      <td>36.770019</td>\n",
       "      <td>3.050049</td>\n",
       "    </tr>\n",
       "    <tr>\n",
       "      <th>1</th>\n",
       "      <td>SAHEB Belkacem</td>\n",
       "      <td>Homme</td>\n",
       "      <td>Cardiologie</td>\n",
       "      <td>lot THALA, Bd KRIM Belkacem, local 6, NV</td>\n",
       "      <td>Tizi Ouzou</td>\n",
       "      <td>026205113</td>\n",
       "      <td>36.703037</td>\n",
       "      <td>4.054835</td>\n",
       "    </tr>\n",
       "    <tr>\n",
       "      <th>2</th>\n",
       "      <td>AIT BELKACEM Djallil</td>\n",
       "      <td>Homme</td>\n",
       "      <td>Cardiologie</td>\n",
       "      <td>cité b,NV, 1er étage, local 01</td>\n",
       "      <td>Tizi Ouzou</td>\n",
       "      <td>0666265781</td>\n",
       "      <td>36.702298</td>\n",
       "      <td>4.045919</td>\n",
       "    </tr>\n",
       "    <tr>\n",
       "      <th>3</th>\n",
       "      <td>REDDAD IDIR</td>\n",
       "      <td>Homme</td>\n",
       "      <td>Cardiologie</td>\n",
       "      <td>Cité 600 logts Bt N, N° 559, NV</td>\n",
       "      <td>Tizi Ouzou</td>\n",
       "      <td>026217470</td>\n",
       "      <td>36.770000</td>\n",
       "      <td>3.049360</td>\n",
       "    </tr>\n",
       "    <tr>\n",
       "      <th>4</th>\n",
       "      <td>MELLAH  SAMIA</td>\n",
       "      <td>Femme</td>\n",
       "      <td>Dermatologie</td>\n",
       "      <td>Cité les genets Bt F N° 01</td>\n",
       "      <td>Tizi Ouzou</td>\n",
       "      <td>0666494120</td>\n",
       "      <td>36.705320</td>\n",
       "      <td>4.060288</td>\n",
       "    </tr>\n",
       "  </tbody>\n",
       "</table>\n",
       "</div>"
      ],
      "text/plain": [
       "                    nom  genre    specialite  \\\n",
       "0     DJELLAL ABDENACER  Homme   Cardiologie   \n",
       "1        SAHEB Belkacem  Homme   Cardiologie   \n",
       "2  AIT BELKACEM Djallil  Homme   Cardiologie   \n",
       "3           REDDAD IDIR  Homme   Cardiologie   \n",
       "4         MELLAH  SAMIA  Femme  Dermatologie   \n",
       "\n",
       "                                address_dsp       daira   telephone  \\\n",
       "0   Lotissement Thala ex Stade 1er Novembre  Tizi Ouzou   026215386   \n",
       "1  lot THALA, Bd KRIM Belkacem, local 6, NV  Tizi Ouzou   026205113   \n",
       "2            cité b,NV, 1er étage, local 01  Tizi Ouzou  0666265781   \n",
       "3           Cité 600 logts Bt N, N° 559, NV  Tizi Ouzou   026217470   \n",
       "4                Cité les genets Bt F N° 01  Tizi Ouzou  0666494120   \n",
       "\n",
       "         lat       lng  \n",
       "0  36.770019  3.050049  \n",
       "1  36.703037  4.054835  \n",
       "2  36.702298  4.045919  \n",
       "3  36.770000  3.049360  \n",
       "4  36.705320  4.060288  "
      ]
     },
     "execution_count": 8,
     "metadata": {},
     "output_type": "execute_result"
    }
   ],
   "source": [
    "df = pd.read_csv('medecin_sample.csv', index_col=False)\n",
    "df.head()"
   ]
  },
  {
   "cell_type": "markdown",
   "id": "118d9588-eaad-4556-b9e2-8a828c127eae",
   "metadata": {},
   "source": [
    "#### **GENERATE DDL**\n",
    "Save the DDL into a sql file "
   ]
  },
  {
   "cell_type": "code",
   "execution_count": 9,
   "id": "254e2da7-00b0-4b1c-8cb5-bd0d98be7c2c",
   "metadata": {},
   "outputs": [
    {
     "name": "stdout",
     "output_type": "stream",
     "text": [
      "CREATE TABLE \"doctors\" (\n",
      "\"nom\" TEXT,\n",
      "  \"genre\" TEXT,\n",
      "  \"specialite\" TEXT,\n",
      "  \"address_dsp\" TEXT,\n",
      "  \"daira\" TEXT,\n",
      "  \"telephone\" TEXT,\n",
      "  \"lat\" REAL,\n",
      "  \"lng\" REAL\n",
      ")\n"
     ]
    }
   ],
   "source": [
    "print(pd.io.sql.get_schema(df, 'doctors'))"
   ]
  },
  {
   "cell_type": "markdown",
   "id": "390d41c7-da86-41d7-a791-e296d4886087",
   "metadata": {},
   "source": [
    "#### **Create** the database from a SQL file"
   ]
  },
  {
   "cell_type": "code",
   "execution_count": 10,
   "id": "117a439c-79c0-4f3e-9736-bda759bef328",
   "metadata": {},
   "outputs": [
    {
     "name": "stdout",
     "output_type": "stream",
     "text": [
      "--------------------------------------------------\n",
      "--------------------- create ---------------------\n",
      "\n",
      "DROP TABLE IF EXISTS doctors\n",
      "\n",
      "CREATE TABLE IF NOT EXISTS doctors (\n",
      "    id serial PRIMARY KEY,\n",
      "    nom  VARCHAR(100),\n",
      "    genre VARCHAR(10),\n",
      "    specialite VARCHAR(50),\n",
      "    address_dsp VARCHAR(200),\n",
      "    daira VARCHAR(50),\n",
      "    telephone VARCHAR(15),\n",
      "    lat DOUBLE PRECISION ,\n",
      "    lng DOUBLE PRECISION\n",
      ")\n"
     ]
    },
    {
     "data": {
      "text/plain": [
       "'SQL Executed successfully'"
      ]
     },
     "execution_count": 10,
     "metadata": {},
     "output_type": "execute_result"
    }
   ],
   "source": [
    "sql_api.create('baylek_schema.sql')"
   ]
  },
  {
   "cell_type": "code",
   "execution_count": 11,
   "id": "88ba92e5-bba4-4dbe-89d4-e5bfc6af090a",
   "metadata": {},
   "outputs": [],
   "source": [
    "records = df.to_dict('records')"
   ]
  },
  {
   "cell_type": "code",
   "execution_count": 12,
   "id": "4b6e8c93-1d34-4d93-9a2f-29fe49086f8d",
   "metadata": {},
   "outputs": [
    {
     "name": "stdout",
     "output_type": "stream",
     "text": [
      "--------------------------------------------------\n",
      "--------------------- insert ---------------------\n",
      "\n"
     ]
    },
    {
     "data": {
      "text/plain": [
       "'35 records were inserted'"
      ]
     },
     "execution_count": 12,
     "metadata": {},
     "output_type": "execute_result"
    }
   ],
   "source": [
    "sql_api.insert('doctors', records)"
   ]
  },
  {
   "cell_type": "code",
   "execution_count": null,
   "id": "89733b3b-57b4-42ee-9094-e3ee622c6c39",
   "metadata": {},
   "outputs": [],
   "source": []
  }
 ],
 "metadata": {
  "kernelspec": {
   "display_name": "Python 3 (ipykernel)",
   "language": "python",
   "name": "python3"
  },
  "language_info": {
   "codemirror_mode": {
    "name": "ipython",
    "version": 3
   },
   "file_extension": ".py",
   "mimetype": "text/x-python",
   "name": "python",
   "nbconvert_exporter": "python",
   "pygments_lexer": "ipython3",
   "version": "3.8.10"
  }
 },
 "nbformat": 4,
 "nbformat_minor": 5
}
